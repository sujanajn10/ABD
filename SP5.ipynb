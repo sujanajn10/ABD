{
  "nbformat": 4,
  "nbformat_minor": 0,
  "metadata": {
    "colab": {
      "provenance": []
    },
    "kernelspec": {
      "name": "python3",
      "display_name": "Python 3"
    },
    "language_info": {
      "name": "python"
    }
  },
  "cells": [
    {
      "cell_type": "code",
      "execution_count": 2,
      "metadata": {
        "colab": {
          "base_uri": "https://localhost:8080/"
        },
        "id": "fYZD9NlkkV2a",
        "outputId": "e1349cca-eb56-4be7-9d68-fdb9b0350215"
      },
      "outputs": [
        {
          "output_type": "stream",
          "name": "stdout",
          "text": [
            "Collecting pyspark\n",
            "  Downloading pyspark-3.5.0.tar.gz (316.9 MB)\n",
            "\u001b[2K     \u001b[90m━━━━━━━━━━━━━━━━━━━━━━━━━━━━━━━━━━━━━━━━\u001b[0m \u001b[32m316.9/316.9 MB\u001b[0m \u001b[31m4.4 MB/s\u001b[0m eta \u001b[36m0:00:00\u001b[0m\n",
            "\u001b[?25h  Preparing metadata (setup.py) ... \u001b[?25l\u001b[?25hdone\n",
            "Requirement already satisfied: py4j==0.10.9.7 in /usr/local/lib/python3.10/dist-packages (from pyspark) (0.10.9.7)\n",
            "Building wheels for collected packages: pyspark\n",
            "  Building wheel for pyspark (setup.py) ... \u001b[?25l\u001b[?25hdone\n",
            "  Created wheel for pyspark: filename=pyspark-3.5.0-py2.py3-none-any.whl size=317425344 sha256=09233207d2679fa256c1f1588a6f357a9d76cbc250276560832fafed8105dd8d\n",
            "  Stored in directory: /root/.cache/pip/wheels/41/4e/10/c2cf2467f71c678cfc8a6b9ac9241e5e44a01940da8fbb17fc\n",
            "Successfully built pyspark\n",
            "Installing collected packages: pyspark\n",
            "Successfully installed pyspark-3.5.0\n"
          ]
        }
      ],
      "source": [
        "!pip install pyspark"
      ]
    },
    {
      "cell_type": "code",
      "source": [
        "import pyspark\n",
        "from pyspark.sql import SparkSession\n",
        "spark = SparkSession.builder.appName('Accidents DF').getOrCreate()"
      ],
      "metadata": {
        "id": "rFSdXMj2nWTK"
      },
      "execution_count": 3,
      "outputs": []
    },
    {
      "cell_type": "code",
      "source": [
        "from pyspark.sql.functions import *\n",
        "from pyspark.sql.types import *\n",
        "from pyspark.sql.window import Window"
      ],
      "metadata": {
        "id": "n8XoG5bYnf4d"
      },
      "execution_count": 4,
      "outputs": []
    },
    {
      "cell_type": "code",
      "source": [
        "from google.colab import drive\n",
        "drive.mount('/content/drive/')\n",
        "df = spark.read.csv(\"drive/My Drive/Colab Notebooks/Road_accidents.csv\",header=True,inferSchema=True)\n",
        "df.show()\n",
        "df.printSchema()"
      ],
      "metadata": {
        "colab": {
          "base_uri": "https://localhost:8080/"
        },
        "id": "6kOdLSQRnljY",
        "outputId": "5c637608-e064-4cf2-cfce-cade8e1a92a2"
      },
      "execution_count": 5,
      "outputs": [
        {
          "output_type": "stream",
          "name": "stdout",
          "text": [
            "Mounted at /content/drive/\n",
            "+--------------+----+-------+--------+-----+-----+----+----+----+------+---------+-------+--------+--------+\n",
            "|      STATE/UT|YEAR|JANUARY|FEBRUARY|MARCH|APRIL| MAY|JUNE|JULY|AUGUST|SEPTEMBER|OCTOBER|NOVEMBER|DECEMBER|\n",
            "+--------------+----+-------+--------+-----+-----+----+----+----+------+---------+-------+--------+--------+\n",
            "| A & N Islands|2001|      8|      23|   15|   15|  14|  19|  14|    19|        7|     12|      13|      22|\n",
            "| A & N Islands|2002|     12|      10|   14|   16|  10|   7|  16|    11|       23|     21|      11|      17|\n",
            "| A & N Islands|2003|     19|      13|   15|   13|  13|  12|   8|    16|       17|     25|      14|      15|\n",
            "| A & N Islands|2004|     21|      14|   22|   17|  13|  18|  16|    19|       16|     20|      15|      24|\n",
            "| A & N Islands|2005|     19|      21|   22|   17|  13|  19|  21|    14|       15|     19|      10|      16|\n",
            "| A & N Islands|2006|     21|      13|    4|   22|   9|  14|  12|    14|        8|     14|       6|      18|\n",
            "| A & N Islands|2007|     17|      16|   12|   22|  12|  14|   8|    10|       11|      7|      11|      12|\n",
            "| A & N Islands|2008|     17|      22|   15|   16|  15|  17|  13|    11|       13|     17|      11|      24|\n",
            "| A & N Islands|2009|     16|      23|   23|   21|  21|  19|  24|    25|       31|     22|      20|      26|\n",
            "| A & N Islands|2010|     16|      30|   28|   15|  29|  24|  22|    18|       25|     30|      27|      21|\n",
            "| A & N Islands|2011|     24|      10|   19|   24|  13|  28|  17|    18|       25|     17|      18|      22|\n",
            "| A & N Islands|2012|     25|      15|   24|   24|  18|  16|  17|    18|       18|     25|      17|      19|\n",
            "| A & N Islands|2013|     24|      23|   16|   15|  13|  16|  14|    25|       14|     15|      14|      11|\n",
            "| A & N Islands|2014|     25|      13|   19|   19|  18|  15|  15|    16|       15|     23|      18|      22|\n",
            "|Andhra Pradesh|2001|   2204|    2437| 2405| 2351|2550|2284|2025|  2077|     2070|   2276|    2122|    2387|\n",
            "|Andhra Pradesh|2002|   2492|    2453| 2835| 2786|3195|2880|2645|  2607|     2555|   2624|    2646|    2859|\n",
            "|Andhra Pradesh|2003|   2783|    2569| 2870| 2635|3265|2924|2657|  2934|     2767|   2881|    3037|    3215|\n",
            "|Andhra Pradesh|2004|   3019|    3131| 3211| 3100|3257|2942|2827|  3079|     2972|   3041|    3129|    3370|\n",
            "|Andhra Pradesh|2005|   3189|    3193| 3182| 3056|3612|3247|2907|  3028|     2742|   2928|    2975|    3230|\n",
            "|Andhra Pradesh|2006|   3568|    3224| 3496| 3634|3962|3400|3334|  3311|     3232|   3306|    3268|    3588|\n",
            "+--------------+----+-------+--------+-----+-----+----+----+----+------+---------+-------+--------+--------+\n",
            "only showing top 20 rows\n",
            "\n",
            "root\n",
            " |-- STATE/UT: string (nullable = true)\n",
            " |-- YEAR: integer (nullable = true)\n",
            " |-- JANUARY: integer (nullable = true)\n",
            " |-- FEBRUARY: integer (nullable = true)\n",
            " |-- MARCH: integer (nullable = true)\n",
            " |-- APRIL: integer (nullable = true)\n",
            " |-- MAY: integer (nullable = true)\n",
            " |-- JUNE: integer (nullable = true)\n",
            " |-- JULY: integer (nullable = true)\n",
            " |-- AUGUST: integer (nullable = true)\n",
            " |-- SEPTEMBER: integer (nullable = true)\n",
            " |-- OCTOBER: integer (nullable = true)\n",
            " |-- NOVEMBER: integer (nullable = true)\n",
            " |-- DECEMBER: integer (nullable = true)\n",
            "\n"
          ]
        }
      ]
    },
    {
      "cell_type": "code",
      "source": [
        "df.groupBy(\"YEAR\").sum(\"JANUARY\")\\\n",
        "     .show()"
      ],
      "metadata": {
        "colab": {
          "base_uri": "https://localhost:8080/"
        },
        "id": "gl0vwiyltdZn",
        "outputId": "62079b3a-1912-44cd-d1ce-be29de1074f1"
      },
      "execution_count": 6,
      "outputs": [
        {
          "output_type": "stream",
          "name": "stdout",
          "text": [
            "+----+------------+\n",
            "|YEAR|sum(JANUARY)|\n",
            "+----+------------+\n",
            "|2003|       28209|\n",
            "|2007|       36432|\n",
            "|2006|       33535|\n",
            "|2013|       39185|\n",
            "|2014|       39699|\n",
            "|2004|       30722|\n",
            "|2012|       38395|\n",
            "|2009|       35346|\n",
            "|2001|       27039|\n",
            "|2005|       35740|\n",
            "|2010|       36674|\n",
            "|2011|       38305|\n",
            "|2008|       36012|\n",
            "|2002|       27426|\n",
            "+----+------------+\n",
            "\n"
          ]
        }
      ]
    },
    {
      "cell_type": "code",
      "source": [
        "from pyspark.sql.functions import sum\n",
        "df1=df.select(sum(df.JANUARY).alias(\"JANUARY\"),\n",
        "          sum(df.FEBRUARY).alias(\"FEBRUARY\"),\n",
        "          sum(df.FEBRUARY).alias(\"MARCH\"),\n",
        "          sum(df.FEBRUARY).alias(\"APRIL\"),\n",
        "          sum(df.FEBRUARY).alias(\"MAY\"),\n",
        "          sum(df.FEBRUARY).alias(\"JUNE\"),\n",
        "          sum(df.FEBRUARY).alias(\"JULY\"),\n",
        "          sum(df.FEBRUARY).alias(\"AUGUST\"),\n",
        "          sum(df.FEBRUARY).alias(\"SEPTEMBER\"),\n",
        "          sum(df.FEBRUARY).alias(\"OCTOBER\"),\n",
        "          sum(df.FEBRUARY).alias(\"NOVEMBER\"),\n",
        "          sum(df.FEBRUARY).alias(\"DECEMBER\")\n",
        "\n",
        "\n",
        "    ).show()"
      ],
      "metadata": {
        "colab": {
          "base_uri": "https://localhost:8080/"
        },
        "id": "vJHBq5kGuq6x",
        "outputId": "c884466a-8174-43c7-c2e0-6682decac1a8"
      },
      "execution_count": 7,
      "outputs": [
        {
          "output_type": "stream",
          "name": "stdout",
          "text": [
            "+-------+--------+------+------+------+------+------+------+---------+-------+--------+--------+\n",
            "|JANUARY|FEBRUARY| MARCH| APRIL|   MAY|  JUNE|  JULY|AUGUST|SEPTEMBER|OCTOBER|NOVEMBER|DECEMBER|\n",
            "+-------+--------+------+------+------+------+------+------+---------+-------+--------+--------+\n",
            "| 482719|  459272|459272|459272|459272|459272|459272|459272|   459272| 459272|  459272|  459272|\n",
            "+-------+--------+------+------+------+------+------+------+---------+-------+--------+--------+\n",
            "\n"
          ]
        }
      ]
    },
    {
      "cell_type": "code",
      "source": [
        "#Add column 'Total', giving sum of accidents in each month\n",
        "total = df.withColumn('TOTAL',(col('JANUARY')+col('FEBRUARY')+col('MARCH')+col('APRIL')+col('MAY')\\\n",
        "    +col('JUNE')+col('JULY')+col('AUGUST')+col('SEPTEMBER')+col('OCTOBER')+col('NOVEMBER')+col('DECEMBER')))\n",
        "total.show()\n",
        ""
      ],
      "metadata": {
        "colab": {
          "base_uri": "https://localhost:8080/"
        },
        "id": "1OWXK9ZypW1d",
        "outputId": "ed88e530-a000-49ec-f119-8da303cbd984"
      },
      "execution_count": 11,
      "outputs": [
        {
          "output_type": "stream",
          "name": "stdout",
          "text": [
            "+--------------+----+-------+--------+-----+-----+----+----+----+------+---------+-------+--------+--------+-----+\n",
            "|      STATE/UT|YEAR|JANUARY|FEBRUARY|MARCH|APRIL| MAY|JUNE|JULY|AUGUST|SEPTEMBER|OCTOBER|NOVEMBER|DECEMBER|TOTAL|\n",
            "+--------------+----+-------+--------+-----+-----+----+----+----+------+---------+-------+--------+--------+-----+\n",
            "| A & N Islands|2001|      8|      23|   15|   15|  14|  19|  14|    19|        7|     12|      13|      22|  181|\n",
            "| A & N Islands|2002|     12|      10|   14|   16|  10|   7|  16|    11|       23|     21|      11|      17|  168|\n",
            "| A & N Islands|2003|     19|      13|   15|   13|  13|  12|   8|    16|       17|     25|      14|      15|  180|\n",
            "| A & N Islands|2004|     21|      14|   22|   17|  13|  18|  16|    19|       16|     20|      15|      24|  215|\n",
            "| A & N Islands|2005|     19|      21|   22|   17|  13|  19|  21|    14|       15|     19|      10|      16|  206|\n",
            "| A & N Islands|2006|     21|      13|    4|   22|   9|  14|  12|    14|        8|     14|       6|      18|  155|\n",
            "| A & N Islands|2007|     17|      16|   12|   22|  12|  14|   8|    10|       11|      7|      11|      12|  152|\n",
            "| A & N Islands|2008|     17|      22|   15|   16|  15|  17|  13|    11|       13|     17|      11|      24|  191|\n",
            "| A & N Islands|2009|     16|      23|   23|   21|  21|  19|  24|    25|       31|     22|      20|      26|  271|\n",
            "| A & N Islands|2010|     16|      30|   28|   15|  29|  24|  22|    18|       25|     30|      27|      21|  285|\n",
            "| A & N Islands|2011|     24|      10|   19|   24|  13|  28|  17|    18|       25|     17|      18|      22|  235|\n",
            "| A & N Islands|2012|     25|      15|   24|   24|  18|  16|  17|    18|       18|     25|      17|      19|  236|\n",
            "| A & N Islands|2013|     24|      23|   16|   15|  13|  16|  14|    25|       14|     15|      14|      11|  200|\n",
            "| A & N Islands|2014|     25|      13|   19|   19|  18|  15|  15|    16|       15|     23|      18|      22|  218|\n",
            "|Andhra Pradesh|2001|   2204|    2437| 2405| 2351|2550|2284|2025|  2077|     2070|   2276|    2122|    2387|27188|\n",
            "|Andhra Pradesh|2002|   2492|    2453| 2835| 2786|3195|2880|2645|  2607|     2555|   2624|    2646|    2859|32577|\n",
            "|Andhra Pradesh|2003|   2783|    2569| 2870| 2635|3265|2924|2657|  2934|     2767|   2881|    3037|    3215|34537|\n",
            "|Andhra Pradesh|2004|   3019|    3131| 3211| 3100|3257|2942|2827|  3079|     2972|   3041|    3129|    3370|37078|\n",
            "|Andhra Pradesh|2005|   3189|    3193| 3182| 3056|3612|3247|2907|  3028|     2742|   2928|    2975|    3230|37289|\n",
            "|Andhra Pradesh|2006|   3568|    3224| 3496| 3634|3962|3400|3334|  3311|     3232|   3306|    3268|    3588|41323|\n",
            "+--------------+----+-------+--------+-----+-----+----+----+----+------+---------+-------+--------+--------+-----+\n",
            "only showing top 20 rows\n",
            "\n"
          ]
        }
      ]
    },
    {
      "cell_type": "code",
      "source": [
        "#Which state has highest number of accidents in year 2013?\n",
        "high_acc = total.select('STATE/UT','YEAR','TOTAL').filter(col('YEAR') == 2013)\n",
        "high_acc.where(col('TOTAL') == high_acc.agg({'TOTAL':'max'}).collect()[0][0]).show()"
      ],
      "metadata": {
        "colab": {
          "base_uri": "https://localhost:8080/"
        },
        "id": "ykOYD-PGpgt7",
        "outputId": "96d3ba32-5082-40bf-c2a7-861d7d37f7f3"
      },
      "execution_count": 12,
      "outputs": [
        {
          "output_type": "stream",
          "name": "stdout",
          "text": [
            "+----------+----+-----+\n",
            "|  STATE/UT|YEAR|TOTAL|\n",
            "+----------+----+-----+\n",
            "|Tamil Nadu|2013|66238|\n",
            "+----------+----+-----+\n",
            "\n"
          ]
        }
      ]
    },
    {
      "cell_type": "code",
      "source": [
        "#Find the average monthly accidents for each state.\n",
        "monthAcc = df.withColumn('AVG',(col('JANUARY')+col('FEBRUARY')+col('MARCH')+col('APRIL')+col('MAY')+col('JUNE')+col('JULY')+col('AUGUST')\n",
        "    +col('SEPTEMBER')+col('OCTOBER')+col('NOVEMBER')+col('DECEMBER'))/12)\n",
        "monthAcc.select('STATE/UT','AVG').groupBy('STATE/UT','AVG').count().distinct().show(30)"
      ],
      "metadata": {
        "colab": {
          "base_uri": "https://localhost:8080/"
        },
        "id": "5F4W2N53plq6",
        "outputId": "729663c9-f64a-4d22-e320-05cd6076026c"
      },
      "execution_count": 13,
      "outputs": [
        {
          "output_type": "stream",
          "name": "stdout",
          "text": [
            "+----------------+------------------+-----+\n",
            "|        STATE/UT|               AVG|count|\n",
            "+----------------+------------------+-----+\n",
            "|       Rajasthan|           1714.25|    1|\n",
            "|  Madhya Pradesh|           2547.75|    1|\n",
            "|         Manipur|44.833333333333336|    1|\n",
            "|           Assam| 304.6666666666667|    1|\n",
            "|     West Bengal|1205.6666666666667|    1|\n",
            "|      Tamil Nadu|            4331.5|    1|\n",
            "|       Karnataka|3765.8333333333335|    1|\n",
            "|  Madhya Pradesh|2836.1666666666665|    1|\n",
            "|        Nagaland|               3.5|    1|\n",
            "|         Tripura| 68.16666666666667|    1|\n",
            "|     West Bengal|1090.4166666666667|    1|\n",
            "|    D & N Haveli| 7.583333333333333|    1|\n",
            "|         Haryana|            872.75|    1|\n",
            "|       Karnataka|3851.6666666666665|    1|\n",
            "|         Haryana|            952.25|    1|\n",
            "|          Kerala|            3014.5|    1|\n",
            "|      Puducherry|120.91666666666667|    1|\n",
            "|       Rajasthan|2025.1666666666667|    1|\n",
            "|   A & N Islands|17.166666666666668|    1|\n",
            "|       Rajasthan|1666.5833333333333|    1|\n",
            "|      Chandigarh|             39.75|    1|\n",
            "| Jammu & Kashmir|             481.5|    1|\n",
            "|  Madhya Pradesh|2431.0833333333335|    1|\n",
            "|        Nagaland| 6.416666666666667|    1|\n",
            "|         Manipur|43.416666666666664|    1|\n",
            "|      Tamil Nadu|            6290.0|    1|\n",
            "|       Meghalaya|21.416666666666668|    1|\n",
            "|     Daman & Diu| 5.666666666666667|    1|\n",
            "|Himachal Pradesh|175.83333333333334|    1|\n",
            "|           Bihar|             860.0|    1|\n",
            "+----------------+------------------+-----+\n",
            "only showing top 30 rows\n",
            "\n"
          ]
        }
      ]
    },
    {
      "cell_type": "code",
      "source": [
        "\n",
        "#Which month has highest accidents?\n",
        "highest_acc = df.select([col for col in df.columns if col!= 'STATE/UT' and col!='YEAR'])\n",
        "var  = {}\n",
        "for i in highest_acc.columns:\n",
        "  var[i] = highest_acc.agg({i:'max'}).collect()[0][0]\n",
        "df4 = spark.createDataFrame(var.items(), [\"month\", \"value\"])\n",
        "maxValue = df4.agg({'value':'max'}).collect()[0][0]\n",
        "df4.select('month','value').where(col('value')==maxValue).show()\n",
        ""
      ],
      "metadata": {
        "colab": {
          "base_uri": "https://localhost:8080/"
        },
        "id": "F81I5nNnpqGB",
        "outputId": "bc9a1ab8-85cf-4e16-99e1-0a63399af806"
      },
      "execution_count": 14,
      "outputs": [
        {
          "output_type": "stream",
          "name": "stdout",
          "text": [
            "+-----+-----+\n",
            "|month|value|\n",
            "+-----+-----+\n",
            "|  MAY| 9330|\n",
            "+-----+-----+\n",
            "\n"
          ]
        }
      ]
    },
    {
      "cell_type": "code",
      "source": [
        "#Which state has more accidents from year 2001 to 2014?\n",
        "more_acc = total.select('TOTAL','YEAR','STATE/UT').where(col('YEAR') <= 2014)\n",
        "more_accident = more_acc.groupBy('STATE/UT','TOTAL').count().agg({'TOTAL':'sum'}).collect()[0][0]\n",
        "more_accident"
      ],
      "metadata": {
        "colab": {
          "base_uri": "https://localhost:8080/"
        },
        "id": "kz4wn2SXpxIx",
        "outputId": "981c6dc3-fb8a-4b29-bd41-5c0e486c43e6"
      },
      "execution_count": 15,
      "outputs": [
        {
          "output_type": "execute_result",
          "data": {
            "text/plain": [
              "5599501"
            ]
          },
          "metadata": {},
          "execution_count": 15
        }
      ]
    },
    {
      "cell_type": "code",
      "source": [
        "#Which month has more accidents over the year?\n",
        "highest_acc = df.select([col for col in df.columns if col!= 'STATE/UT' and col!='YEAR'])\n",
        "var  = {}\n",
        "for i in highest_acc.columns:\n",
        "  var[i] = highest_acc.agg({i:'max'}).collect()[0][0]\n",
        "df4 = spark.createDataFrame(var.items(), [\"month\", \"value\"])\n",
        "maxValue = df4.agg({'value':'max'}).collect()[0][0]\n",
        "df4.select('month','value').where(col('value')==maxValue).show()"
      ],
      "metadata": {
        "colab": {
          "base_uri": "https://localhost:8080/"
        },
        "id": "vlPYxZ7Op23s",
        "outputId": "91567d7d-86b4-4ea9-a5db-30e2c5c937d9"
      },
      "execution_count": 17,
      "outputs": [
        {
          "output_type": "stream",
          "name": "stdout",
          "text": [
            "+-----+-----+\n",
            "|month|value|\n",
            "+-----+-----+\n",
            "|  MAY| 9330|\n",
            "+-----+-----+\n",
            "\n"
          ]
        }
      ]
    }
  ]
}