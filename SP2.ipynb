{
  "nbformat": 4,
  "nbformat_minor": 0,
  "metadata": {
    "colab": {
      "provenance": []
    },
    "kernelspec": {
      "name": "python3",
      "display_name": "Python 3"
    },
    "language_info": {
      "name": "python"
    }
  },
  "cells": [
    {
      "cell_type": "code",
      "execution_count": null,
      "metadata": {
        "colab": {
          "base_uri": "https://localhost:8080/"
        },
        "id": "KC5U577ebwGD",
        "outputId": "4adde9ee-62c2-42bc-fa96-65960216ac6c"
      },
      "outputs": [
        {
          "output_type": "stream",
          "name": "stdout",
          "text": [
            "Collecting pyspark\n",
            "  Downloading pyspark-3.5.0.tar.gz (316.9 MB)\n",
            "\u001b[2K     \u001b[90m━━━━━━━━━━━━━━━━━━━━━━━━━━━━━━━━━━━━━━━━\u001b[0m \u001b[32m316.9/316.9 MB\u001b[0m \u001b[31m3.9 MB/s\u001b[0m eta \u001b[36m0:00:00\u001b[0m\n",
            "\u001b[?25h  Preparing metadata (setup.py) ... \u001b[?25l\u001b[?25hdone\n",
            "Requirement already satisfied: py4j==0.10.9.7 in /usr/local/lib/python3.10/dist-packages (from pyspark) (0.10.9.7)\n",
            "Building wheels for collected packages: pyspark\n",
            "  Building wheel for pyspark (setup.py) ... \u001b[?25l\u001b[?25hdone\n",
            "  Created wheel for pyspark: filename=pyspark-3.5.0-py2.py3-none-any.whl size=317425344 sha256=f56c797b52d06d905069b12c85c5791d40e156a27d726ca57f2ec324a76d2fd6\n",
            "  Stored in directory: /root/.cache/pip/wheels/41/4e/10/c2cf2467f71c678cfc8a6b9ac9241e5e44a01940da8fbb17fc\n",
            "Successfully built pyspark\n",
            "Installing collected packages: pyspark\n",
            "Successfully installed pyspark-3.5.0\n"
          ]
        }
      ],
      "source": [
        "!pip install pyspark"
      ]
    },
    {
      "cell_type": "code",
      "source": [
        "import pyspark\n",
        "from pyspark.sql import SparkSession\n",
        "spark = SparkSession.builder.appName('food DF').getOrCreate()"
      ],
      "metadata": {
        "id": "2AqkCKpidT9u"
      },
      "execution_count": null,
      "outputs": []
    },
    {
      "cell_type": "code",
      "source": [
        "from pyspark.sql.functions import *\n",
        "from pyspark.sql.types import *"
      ],
      "metadata": {
        "id": "CE6P_9TahvLq"
      },
      "execution_count": null,
      "outputs": []
    },
    {
      "cell_type": "code",
      "source": [
        "from google.colab import drive\n",
        "drive.mount('/content/drive/')\n",
        "df = spark.read.csv(\"drive/My Drive/Colab Notebooks/indian_food.csv\",header=True,inferSchema=True)\n",
        "df.show()\n",
        "df.printSchema()"
      ],
      "metadata": {
        "colab": {
          "base_uri": "https://localhost:8080/"
        },
        "id": "POAZtgD5dnGk",
        "outputId": "c3ca864e-b39c-452d-d9e2-4cbfa8f87ed5"
      },
      "execution_count": null,
      "outputs": [
        {
          "output_type": "stream",
          "name": "stdout",
          "text": [
            "Mounted at /content/drive/\n",
            "+--------------+--------------------+----------+---------+---------+--------------+-------+-------------+------+\n",
            "|          name|         ingredients|      diet|prep_time|cook_time|flavor_profile| course|        state|region|\n",
            "+--------------+--------------------+----------+---------+---------+--------------+-------+-------------+------+\n",
            "|    Balu shahi|Maida flour, yogu...|vegetarian|       45|       25|         sweet|dessert|  West Bengal|  East|\n",
            "|        Boondi|Gram flour, ghee,...|vegetarian|       80|       30|         sweet|dessert|    Rajasthan|  West|\n",
            "|Gajar ka halwa|Carrots, milk, su...|vegetarian|       15|       60|         sweet|dessert|       Punjab| North|\n",
            "|        Ghevar|Flour, ghee, kewr...|vegetarian|       15|       30|         sweet|dessert|    Rajasthan|  West|\n",
            "|   Gulab jamun|Milk powder, plai...|vegetarian|       15|       40|         sweet|dessert|  West Bengal|  East|\n",
            "|        Imarti|Sugar syrup, lent...|vegetarian|       10|       50|         sweet|dessert|  West Bengal|  East|\n",
            "|        Jalebi|Maida, corn flour...|vegetarian|       10|       50|         sweet|dessert|Uttar Pradesh| North|\n",
            "|    Kaju katli|Cashews, ghee, ca...|vegetarian|       10|       20|         sweet|dessert|           -1|    -1|\n",
            "|      Kalakand|Milk, cottage che...|vegetarian|       20|       30|         sweet|dessert|  West Bengal|  East|\n",
            "|         Kheer|Milk, rice, sugar...|vegetarian|       10|       40|         sweet|dessert|           -1|    -1|\n",
            "|         Laddu|Gram flour, ghee,...|vegetarian|       10|       40|         sweet|dessert|           -1|    -1|\n",
            "|         Lassi|Yogurt, milk, nut...|vegetarian|        5|        5|         sweet|dessert|       Punjab| North|\n",
            "|     Nankhatai|Refined flour, be...|vegetarian|       20|       30|         sweet|dessert|           -1|    -1|\n",
            "|         Petha|Firm white pumpki...|vegetarian|       10|       30|         sweet|dessert|Uttar Pradesh| North|\n",
            "|        Phirni|   Rice, sugar, nuts|vegetarian|       30|       20|         sweet|dessert|       Odisha|  East|\n",
            "|         Rabri|Condensed milk, s...|vegetarian|       10|       45|         sweet|dessert|Uttar Pradesh| North|\n",
            "|        Sheera|Semolina, ghee, n...|vegetarian|       10|       25|         sweet|dessert|  Maharashtra|  West|\n",
            "|       Singori|Khoa, coconut, mo...|vegetarian|       10|       20|         sweet|dessert|  Uttarakhand| North|\n",
            "|   Sohan halwa|Corn flour, ghee,...|vegetarian|       10|       60|         sweet|dessert|Uttar Pradesh| North|\n",
            "|   Sohan papdi|Gram flour, ghee,...|vegetarian|       -1|       60|         sweet|dessert|  Maharashtra|  West|\n",
            "+--------------+--------------------+----------+---------+---------+--------------+-------+-------------+------+\n",
            "only showing top 20 rows\n",
            "\n",
            "root\n",
            " |-- name: string (nullable = true)\n",
            " |-- ingredients: string (nullable = true)\n",
            " |-- diet: string (nullable = true)\n",
            " |-- prep_time: integer (nullable = true)\n",
            " |-- cook_time: integer (nullable = true)\n",
            " |-- flavor_profile: string (nullable = true)\n",
            " |-- course: string (nullable = true)\n",
            " |-- state: string (nullable = true)\n",
            " |-- region: string (nullable = true)\n",
            "\n"
          ]
        }
      ]
    },
    {
      "cell_type": "code",
      "source": [
        "\"\"\"1.Find out how many unique dishes are present.\"\"\"\n",
        "\n",
        "\n",
        "df.select(\"name\").distinct().count()\n",
        "\n",
        "df1=df.select(\"name\").distinct()\n",
        "df1.show()\n",
        "\n",
        "df.select(\"name\").show()"
      ],
      "metadata": {
        "colab": {
          "base_uri": "https://localhost:8080/"
        },
        "id": "vrJ1sFDOhEV8",
        "outputId": "10b92067-0852-4cc5-e821-a319c6ea455b"
      },
      "execution_count": null,
      "outputs": [
        {
          "output_type": "stream",
          "name": "stdout",
          "text": [
            "+-----------------+\n",
            "|             name|\n",
            "+-----------------+\n",
            "|            Kheer|\n",
            "|          Poriyal|\n",
            "|Sabudana Khichadi|\n",
            "|   Gajar ka halwa|\n",
            "|     Keerai sadam|\n",
            "|         Dalithoy|\n",
            "|         Mihidana|\n",
            "|          Singori|\n",
            "|          Uttapam|\n",
            "|          Gavvalu|\n",
            "|   Kakinada khaja|\n",
            "|   Chak Hao Kheer|\n",
            "|          Pachadi|\n",
            "|         Vindaloo|\n",
            "|     Gheela Pitha|\n",
            "|         Idiappam|\n",
            "|     Keerai kootu|\n",
            "|             Idli|\n",
            "|            Saath|\n",
            "|            Rabri|\n",
            "+-----------------+\n",
            "only showing top 20 rows\n",
            "\n",
            "+--------------+\n",
            "|          name|\n",
            "+--------------+\n",
            "|    Balu shahi|\n",
            "|        Boondi|\n",
            "|Gajar ka halwa|\n",
            "|        Ghevar|\n",
            "|   Gulab jamun|\n",
            "|        Imarti|\n",
            "|        Jalebi|\n",
            "|    Kaju katli|\n",
            "|      Kalakand|\n",
            "|         Kheer|\n",
            "|         Laddu|\n",
            "|         Lassi|\n",
            "|     Nankhatai|\n",
            "|         Petha|\n",
            "|        Phirni|\n",
            "|         Rabri|\n",
            "|        Sheera|\n",
            "|       Singori|\n",
            "|   Sohan halwa|\n",
            "|   Sohan papdi|\n",
            "+--------------+\n",
            "only showing top 20 rows\n",
            "\n"
          ]
        }
      ]
    },
    {
      "cell_type": "code",
      "source": [
        "\"\"\"2.Which state has more dishes?\"\"\"\n",
        "\n",
        "dish = df.groupBy(\"state\").count().orderBy(col(\"count\"),ascending=False)\n",
        "dish.show()\n",
        "\n",
        "dish = df.groupBy(\"state\",\"name\").count().orderBy(col(\"count\"),ascending=False)\n",
        "dish.show()"
      ],
      "metadata": {
        "colab": {
          "base_uri": "https://localhost:8080/"
        },
        "id": "oK2sxEbaheje",
        "outputId": "e2cdd3ac-09fc-40d8-be47-208eeb89fab7"
      },
      "execution_count": null,
      "outputs": [
        {
          "output_type": "stream",
          "name": "stdout",
          "text": [
            "+---------------+-----+\n",
            "|          state|count|\n",
            "+---------------+-----+\n",
            "|        Gujarat|   35|\n",
            "|         Punjab|   32|\n",
            "|    Maharashtra|   30|\n",
            "|             -1|   24|\n",
            "|    West Bengal|   24|\n",
            "|          Assam|   21|\n",
            "|     Tamil Nadu|   20|\n",
            "| Andhra Pradesh|   10|\n",
            "|  Uttar Pradesh|    9|\n",
            "|         Kerala|    8|\n",
            "|         Odisha|    7|\n",
            "|      Karnataka|    6|\n",
            "|      Rajasthan|    6|\n",
            "|      Telangana|    5|\n",
            "|            Goa|    3|\n",
            "|          Bihar|    3|\n",
            "| Madhya Pradesh|    2|\n",
            "|        Manipur|    2|\n",
            "|Jammu & Kashmir|    2|\n",
            "|       Nagaland|    1|\n",
            "+---------------+-----+\n",
            "only showing top 20 rows\n",
            "\n",
            "+--------------+--------------------+-----+\n",
            "|         state|                name|count|\n",
            "+--------------+--------------------+-----+\n",
            "|    Tamil Nadu|          Puli sadam|    1|\n",
            "|       Gujarat|              Khichu|    1|\n",
            "|   West Bengal|                Goja|    1|\n",
            "|   Maharashtra|             Surnoli|    1|\n",
            "|       Gujarat|             Undhiyu|    1|\n",
            "|   Maharashtra|              Anarsa|    1|\n",
            "|            -1|           Pani puri|    1|\n",
            "|       Gujarat|             Khandvi|    1|\n",
            "|         Assam|         Koldil Duck|    1|\n",
            "|        Punjab| Tandoori Fish Tikka|    1|\n",
            "|            -1|               Sevai|    1|\n",
            "|   West Bengal|             Sandesh|    1|\n",
            "|   West Bengal|              Shukto|    1|\n",
            "|            -1|             Khichdi|    1|\n",
            "|Andhra Pradesh|        Bandar laddu|    1|\n",
            "|        Punjab|          Aloo matar|    1|\n",
            "|       Gujarat|              Chevdo|    1|\n",
            "|   Maharashtra|            Dalithoy|    1|\n",
            "|        Punjab|Makki di roti sar...|    1|\n",
            "|            -1|            Red Rice|    1|\n",
            "+--------------+--------------------+-----+\n",
            "only showing top 20 rows\n",
            "\n"
          ]
        }
      ]
    },
    {
      "cell_type": "code",
      "source": [
        "\"\"\"3.How many dishes from state Karnataka?\"\"\"\n",
        "\n",
        "df.select(\"name\")\\\n",
        "  .where(col(\"state\") == \"Karnataka\").distinct().show(truncate=False)\n",
        "\n",
        "df.select(\"name\")\\\n",
        "  .where(col(\"state\") == \"Karnataka\").distinct().count()\n"
      ],
      "metadata": {
        "colab": {
          "base_uri": "https://localhost:8080/"
        },
        "id": "faVKa2mthy0R",
        "outputId": "8156e3c7-b20a-4f1d-d451-c2cb174d1541"
      },
      "execution_count": null,
      "outputs": [
        {
          "output_type": "stream",
          "name": "stdout",
          "text": [
            "+--------------+\n",
            "|name          |\n",
            "+--------------+\n",
            "|Bisi bele bath|\n",
            "|Koshambri     |\n",
            "|Obbattu holige|\n",
            "|Dharwad pedha |\n",
            "|Mysore pak    |\n",
            "|Sandige       |\n",
            "+--------------+\n",
            "\n"
          ]
        },
        {
          "output_type": "execute_result",
          "data": {
            "text/plain": [
              "6"
            ]
          },
          "metadata": {},
          "execution_count": 10
        }
      ]
    },
    {
      "cell_type": "code",
      "source": [
        "\"\"\"4.List number of unique regions\"\"\"\n",
        "\n",
        "df.select(\"region\").distinct().count()\n",
        "\n",
        "df.select(\"region\").distinct().show()"
      ],
      "metadata": {
        "colab": {
          "base_uri": "https://localhost:8080/"
        },
        "id": "jli8REBjh613",
        "outputId": "e8996422-6d4e-4631-8ce5-66afd827ad94"
      },
      "execution_count": null,
      "outputs": [
        {
          "output_type": "stream",
          "name": "stdout",
          "text": [
            "+----------+\n",
            "|    region|\n",
            "+----------+\n",
            "|        -1|\n",
            "|     South|\n",
            "|   Central|\n",
            "|      East|\n",
            "|      West|\n",
            "|North East|\n",
            "|     North|\n",
            "|      NULL|\n",
            "+----------+\n",
            "\n"
          ]
        }
      ]
    },
    {
      "cell_type": "code",
      "source": [
        "\"\"\"5.Count number of dishes from each region.\"\"\"\n",
        "\n",
        "df.groupBy(\"region\").count().show()\n",
        "\n",
        "df.groupBy(\"region\",\"name\").count().distinct().show()"
      ],
      "metadata": {
        "colab": {
          "base_uri": "https://localhost:8080/"
        },
        "id": "CP6zw9ENiAE5",
        "outputId": "8af595e6-6b73-4c71-c68a-2238ed1793cf"
      },
      "execution_count": null,
      "outputs": [
        {
          "output_type": "stream",
          "name": "stdout",
          "text": [
            "+----------+-----+\n",
            "|    region|count|\n",
            "+----------+-----+\n",
            "|        -1|   13|\n",
            "|      NULL|    1|\n",
            "|     South|   59|\n",
            "|   Central|    3|\n",
            "|      East|   31|\n",
            "|      West|   74|\n",
            "|North East|   25|\n",
            "|     North|   49|\n",
            "+----------+-----+\n",
            "\n",
            "+----------+-----------------+-----+\n",
            "|    region|             name|count|\n",
            "+----------+-----------------+-----+\n",
            "|North East|   Chak Hao Kheer|    1|\n",
            "|North East|       Pani Pitha|    1|\n",
            "|      West|      Kombdi vade|    1|\n",
            "|      West|           Khaman|    1|\n",
            "|     North|   Butter chicken|    1|\n",
            "|      West|            Saath|    1|\n",
            "|      West|       Sev tameta|    1|\n",
            "|     South|     Bandar laddu|    1|\n",
            "|      West|        Shrikhand|    1|\n",
            "|     North|Aloo shimla mirch|    1|\n",
            "|     South|         Kuzhambu|    1|\n",
            "|      East|Prawn malai curry|    1|\n",
            "|North East|        Til Pitha|    1|\n",
            "|     South|      Sheer korma|    1|\n",
            "|     South|            Puttu|    1|\n",
            "|      East|      Gulab jamun|    1|\n",
            "|   Central|             Fara|    1|\n",
            "|        -1|        Pani puri|    1|\n",
            "|     South|         Beef Fry|    1|\n",
            "|     South|   Bisi bele bath|    1|\n",
            "+----------+-----------------+-----+\n",
            "only showing top 20 rows\n",
            "\n"
          ]
        }
      ]
    },
    {
      "cell_type": "code",
      "source": [
        "\"\"\"6.List unique 'flavor_profile' and 'course'\"\"\"\n",
        "\n",
        "df.select(\"flavor_profile\",\"course\").distinct().show()\n",
        "\n",
        "df.groupBy(\"flavor_profile\",\"course\").count().distinct().show()"
      ],
      "metadata": {
        "colab": {
          "base_uri": "https://localhost:8080/"
        },
        "id": "kHG5iAnUiiMe",
        "outputId": "e864a515-44ae-4e91-c11c-879e3a5beafa"
      },
      "execution_count": null,
      "outputs": [
        {
          "output_type": "stream",
          "name": "stdout",
          "text": [
            "+--------------+-----------+\n",
            "|flavor_profile|     course|\n",
            "+--------------+-----------+\n",
            "|        bitter|      snack|\n",
            "|         spicy|    starter|\n",
            "|          sour|main course|\n",
            "|            -1|      snack|\n",
            "|            -1|main course|\n",
            "|         sweet|main course|\n",
            "|        bitter|main course|\n",
            "|         spicy|      snack|\n",
            "|         sweet|    dessert|\n",
            "|         spicy|main course|\n",
            "+--------------+-----------+\n",
            "\n",
            "+--------------+-----------+-----+\n",
            "|flavor_profile|     course|count|\n",
            "+--------------+-----------+-----+\n",
            "|        bitter|      snack|    1|\n",
            "|         spicy|    starter|    2|\n",
            "|          sour|main course|    1|\n",
            "|            -1|      snack|    3|\n",
            "|            -1|main course|   26|\n",
            "|         sweet|main course|    3|\n",
            "|        bitter|main course|    3|\n",
            "|         spicy|      snack|   35|\n",
            "|         sweet|    dessert|   85|\n",
            "|         spicy|main course|   96|\n",
            "+--------------+-----------+-----+\n",
            "\n"
          ]
        }
      ]
    },
    {
      "cell_type": "code",
      "source": [
        "\n",
        "\"\"\"7.Which state has more 'main course'?\"\"\"\n",
        "\n",
        "course = \"main course\"\n",
        "main = df.filter(df[\"course\"] == course)\n",
        "state = main.groupBy(\"state\").count()\n",
        "max_count = state.agg({\"count\": \"max\"}).collect()[0][0]\n",
        "max_states = state.filter(state[\"count\"] == max_count)\n",
        "max_states.show()\n",
        "\n",
        "course = \"main course\"\n",
        "clean_ud = df.filter(df[\"course\"] == \"main course\")\n",
        "state = clean_ud.groupBy(\"state\") \\\n",
        ".agg(count(col(\"state\")).alias(\"count\"))\n",
        "state.show()"
      ],
      "metadata": {
        "colab": {
          "base_uri": "https://localhost:8080/"
        },
        "id": "vCQIeFOliqoQ",
        "outputId": "c9fc28b6-3a79-4de0-8f58-50d908ddb5b5"
      },
      "execution_count": null,
      "outputs": [
        {
          "output_type": "stream",
          "name": "stdout",
          "text": [
            "+------+-----+\n",
            "| state|count|\n",
            "+------+-----+\n",
            "|Punjab|   28|\n",
            "+------+-----+\n",
            "\n",
            "+---------------+-----+\n",
            "|          state|count|\n",
            "+---------------+-----+\n",
            "|       Nagaland|    1|\n",
            "|      Karnataka|    4|\n",
            "|             -1|    9|\n",
            "|         Odisha|    1|\n",
            "|         Kerala|    5|\n",
            "|     Tamil Nadu|   17|\n",
            "| Madhya Pradesh|    1|\n",
            "|         Punjab|   28|\n",
            "|        Manipur|    1|\n",
            "|Jammu & Kashmir|    1|\n",
            "|            Goa|    1|\n",
            "|        Haryana|    1|\n",
            "|        Gujarat|   12|\n",
            "|      Rajasthan|    3|\n",
            "|          Assam|   15|\n",
            "|   NCT of Delhi|    1|\n",
            "|      Telangana|    1|\n",
            "|    Maharashtra|   12|\n",
            "|    West Bengal|    9|\n",
            "|          Bihar|    2|\n",
            "+---------------+-----+\n",
            "only showing top 20 rows\n",
            "\n"
          ]
        }
      ]
    },
    {
      "cell_type": "code",
      "source": [
        "\"\"\"8.Give the %of dishes from each region.\"\"\"\n",
        "\n",
        "region_counts = df.groupBy(\"region\").count()\\\n",
        ".withColumn(\"percentage\", (col(\"count\") / df.count()) * 100)\n",
        "region_counts.show()\n",
        "\n",
        "region_counts = df.groupBy(\"region\").count()\\\n",
        ".withColumn(\"percentage\", (col(\"count\") / df.count()) * 100)\\\n",
        ".orderBy(\"percentage\", ascending=False)\n",
        "region_counts.show()\n"
      ],
      "metadata": {
        "colab": {
          "base_uri": "https://localhost:8080/"
        },
        "id": "5ott_hLLixLn",
        "outputId": "860e60d5-43cd-4fc1-b296-d45bd81b520c"
      },
      "execution_count": null,
      "outputs": [
        {
          "output_type": "stream",
          "name": "stdout",
          "text": [
            "+----------+-----+-------------------+\n",
            "|    region|count|         percentage|\n",
            "+----------+-----+-------------------+\n",
            "|        -1|   13|  5.098039215686274|\n",
            "|      NULL|    1|0.39215686274509803|\n",
            "|     South|   59| 23.137254901960784|\n",
            "|   Central|    3| 1.1764705882352942|\n",
            "|      East|   31| 12.156862745098039|\n",
            "|      West|   74|  29.01960784313726|\n",
            "|North East|   25|  9.803921568627452|\n",
            "|     North|   49| 19.215686274509807|\n",
            "+----------+-----+-------------------+\n",
            "\n",
            "+----------+-----+-------------------+\n",
            "|    region|count|         percentage|\n",
            "+----------+-----+-------------------+\n",
            "|      West|   74|  29.01960784313726|\n",
            "|     South|   59| 23.137254901960784|\n",
            "|     North|   49| 19.215686274509807|\n",
            "|      East|   31| 12.156862745098039|\n",
            "|North East|   25|  9.803921568627452|\n",
            "|        -1|   13|  5.098039215686274|\n",
            "|   Central|    3| 1.1764705882352942|\n",
            "|      NULL|    1|0.39215686274509803|\n",
            "+----------+-----+-------------------+\n",
            "\n"
          ]
        }
      ]
    },
    {
      "cell_type": "code",
      "source": [
        "\"\"\"9.List the states which has more dishes from each region.\"\"\"\n",
        "\n",
        "d=df.groupBy(\"region\",\"name\",\"state\").count().distinct()\\\n",
        ".agg(count(col(\"state\")).alias(\"count\"))\n",
        "d.show()\n",
        "\n",
        "from pyspark.sql.window import Window\n",
        "d = df.groupBy(\"region\", \"name\", \"state\").count().distinct()\n",
        "window_spec = Window.partitionBy(\"region\").orderBy(desc(\"count\"))\n",
        "d.withColumn(\"rank\", rank().over(window_spec))\\\n",
        ".filter(col(\"rank\") == 1).select(\"region\", \"state\", \"count\")\n",
        "d.show()"
      ],
      "metadata": {
        "colab": {
          "base_uri": "https://localhost:8080/"
        },
        "id": "rdNtiu74i5uv",
        "outputId": "6fb9db54-d84e-476c-9540-049fb8dcc7e6"
      },
      "execution_count": null,
      "outputs": [
        {
          "output_type": "stream",
          "name": "stdout",
          "text": [
            "+-----+\n",
            "|count|\n",
            "+-----+\n",
            "|  255|\n",
            "+-----+\n",
            "\n",
            "+----------+-----------------+---------------+-----+\n",
            "|    region|             name|          state|count|\n",
            "+----------+-----------------+---------------+-----+\n",
            "|     North|         Dum aloo|Jammu & Kashmir|    1|\n",
            "|     North|     Rajma chaval|             -1|    1|\n",
            "|     North|   Mushroom matar|         Punjab|    1|\n",
            "|     South|          Poriyal|     Tamil Nadu|    1|\n",
            "|      West|          Surnoli|    Maharashtra|    1|\n",
            "|      East|          Pakhala|         Odisha|    1|\n",
            "|     North|            Kofta|  Uttar Pradesh|    1|\n",
            "|     North|   Gajar ka halwa|         Punjab|    1|\n",
            "|      East|           Phirni|         Odisha|    1|\n",
            "|     North|Mushroom do pyaza|         Punjab|    1|\n",
            "|      West|     Coconut vadi|    Maharashtra|    1|\n",
            "|      West|           Sukhdi|    Maharashtra|    1|\n",
            "|     South|          Biryani|      Telangana|    1|\n",
            "|      West|       Sutar feni|    Maharashtra|    1|\n",
            "|        -1|        Pani puri|             -1|    1|\n",
            "|North East|       Alu Pitika|          Assam|    1|\n",
            "|     South|  Kuzhi paniyaram|         Kerala|    1|\n",
            "|      West|         Doodhpak|        Gujarat|    1|\n",
            "|        -1|        Nankhatai|             -1|    1|\n",
            "|     South|          Theeyal|         Kerala|    1|\n",
            "+----------+-----------------+---------------+-----+\n",
            "only showing top 20 rows\n",
            "\n"
          ]
        }
      ]
    }
  ]
}