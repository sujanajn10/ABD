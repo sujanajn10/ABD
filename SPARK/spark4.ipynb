{
  "nbformat": 4,
  "nbformat_minor": 0,
  "metadata": {
    "colab": {
      "provenance": []
    },
    "kernelspec": {
      "name": "python3",
      "display_name": "Python 3"
    },
    "language_info": {
      "name": "python"
    }
  },
  "cells": [
    {
      "cell_type": "code",
      "execution_count": 1,
      "metadata": {
        "colab": {
          "base_uri": "https://localhost:8080/"
        },
        "id": "K2_MKHkuxFLh",
        "outputId": "d85487d8-3d6d-437e-e5f8-93a30837528f"
      },
      "outputs": [
        {
          "output_type": "stream",
          "name": "stdout",
          "text": [
            "Collecting pyspark\n",
            "  Downloading pyspark-3.5.0.tar.gz (316.9 MB)\n",
            "\u001b[2K     \u001b[90m━━━━━━━━━━━━━━━━━━━━━━━━━━━━━━━━━━━━━━━━\u001b[0m \u001b[32m316.9/316.9 MB\u001b[0m \u001b[31m2.1 MB/s\u001b[0m eta \u001b[36m0:00:00\u001b[0m\n",
            "\u001b[?25h  Preparing metadata (setup.py) ... \u001b[?25l\u001b[?25hdone\n",
            "Requirement already satisfied: py4j==0.10.9.7 in /usr/local/lib/python3.10/dist-packages (from pyspark) (0.10.9.7)\n",
            "Building wheels for collected packages: pyspark\n",
            "  Building wheel for pyspark (setup.py) ... \u001b[?25l\u001b[?25hdone\n",
            "  Created wheel for pyspark: filename=pyspark-3.5.0-py2.py3-none-any.whl size=317425344 sha256=ae6db79644779d1b2d580aeff181345deb552f53f05ab78f25bf1272e7cde4cd\n",
            "  Stored in directory: /root/.cache/pip/wheels/41/4e/10/c2cf2467f71c678cfc8a6b9ac9241e5e44a01940da8fbb17fc\n",
            "Successfully built pyspark\n",
            "Installing collected packages: pyspark\n",
            "Successfully installed pyspark-3.5.0\n"
          ]
        }
      ],
      "source": [
        "!pip install pyspark"
      ]
    },
    {
      "cell_type": "code",
      "source": [
        "import pyspark\n",
        "from pyspark.sql import SparkSession\n",
        "spark=SparkSession.builder.appName(\"spark\").getOrCreate()"
      ],
      "metadata": {
        "id": "LZI9BYi7y8gB"
      },
      "execution_count": 2,
      "outputs": []
    },
    {
      "cell_type": "code",
      "source": [
        "from google.colab import drive\n",
        "drive.mount('/content/drive/')\n",
        "bank=spark.sparkContext.textFile(\"drive/My Drive/Colab Notebooks/bank.txt\")"
      ],
      "metadata": {
        "colab": {
          "base_uri": "https://localhost:8080/"
        },
        "id": "ZU6cQvGozC8n",
        "outputId": "d91c2b27-590d-45a7-a583-1ed5572d802f"
      },
      "execution_count": 3,
      "outputs": [
        {
          "output_type": "stream",
          "name": "stdout",
          "text": [
            "Mounted at /content/drive/\n"
          ]
        }
      ]
    },
    {
      "cell_type": "code",
      "source": [
        "bank.collect()"
      ],
      "metadata": {
        "colab": {
          "base_uri": "https://localhost:8080/"
        },
        "id": "8E5M-aG3z5aI",
        "outputId": "21eb34df-e48f-46fd-ea8d-4033462700bc"
      },
      "execution_count": 4,
      "outputs": [
        {
          "output_type": "execute_result",
          "data": {
            "text/plain": [
              "['SBI00042\\t123876122\\t23-10-2021\\tC\\t250',\n",
              " 'SBI00042\\t123876122\\t23-10-2021\\tD\\t250',\n",
              " 'SBI00042\\t123876122\\t23-10-2021\\tC\\t250',\n",
              " 'SBI00042\\t123872822\\t23-10-2021\\tC\\t1250',\n",
              " 'SBI00042\\t123876122\\t23-10-2021\\tD\\t250',\n",
              " 'SBI00042\\t123823822\\t23-10-2021\\tC\\t10250',\n",
              " 'SBI00042\\t123876171\\t23-10-2021\\tD\\t25000',\n",
              " 'SBI00042\\t123872322\\t23-10-2021\\tC\\t12500',\n",
              " 'SBI00042\\t123876142\\t23-10-2021\\tD\\t2500',\n",
              " 'SBI00042\\t123872829\\t23-10-2021\\tC\\t100',\n",
              " 'CAN00123\\t720127541\\t03-1-2010\\tC\\t250',\n",
              " 'CAN00123\\t123872822\\t23-10-2021\\tC\\t1250',\n",
              " 'CAN00123\\t123876122\\t23-10-2019\\tD\\t250',\n",
              " 'CAN00123\\t123456789\\t23-11-2020\\tC\\t10250',\n",
              " 'CAN00123\\t123456789\\t23-12-2020\\tC\\t10250',\n",
              " 'CAN00123\\t123456789\\t23-10-2020\\tC\\t10250',\n",
              " 'CAN00123\\t123876171\\t13-10-2005\\tD\\t25000',\n",
              " 'SBI00042\\t123872322\\t15-11-2012\\tC\\t12500',\n",
              " 'SBI00042\\t123876142\\t06-01-2006\\tD\\t2500',\n",
              " 'SBI00042\\t123872829\\t30-11-2001\\tC\\t10000',\n",
              " 'SBI00042\\t123872829\\t30-07-2001\\tC\\t10000',\n",
              " 'SBI00042\\t123872829\\t30-01-2001\\tC\\t10000',\n",
              " 'ICI00072\\t123823122\\t23-10-2021\\tC\\t250',\n",
              " 'ICI00072\\t123809822\\t23-10-2021\\tC\\t1250',\n",
              " 'ICI00072\\t123376422\\t23-10-2021\\tD\\t250',\n",
              " 'ICI00072\\t123822322\\t23-10-2021\\tC\\t10250',\n",
              " 'ICI00072\\t123802671\\t23-10-2021\\tD\\t25000',\n",
              " 'ICI00072\\t123830822\\t23-10-2021\\tC\\t12500',\n",
              " 'SBI00042\\t123876142\\t11-04-2000\\tD\\t2500',\n",
              " 'SBI00042\\t123872829\\t21-07-2002\\tC\\t100',\n",
              " 'CAN00123\\t720127541\\t03-1-2010\\tC\\t250',\n",
              " 'CAN00123\\t123456789\\t03-10-2011\\tC\\t51250',\n",
              " 'CAN00123\\t123876122\\t06-08-2015\\tD\\t250',\n",
              " 'CAN00123\\t123823822\\t23-10-2020\\tC\\t10250',\n",
              " 'CAN00123\\t123456789\\t13-10-2005\\tD\\t25000',\n",
              " 'SBI00042\\t123872322\\t15-11-2012\\tC\\t12500',\n",
              " 'SBI00042\\t123876142\\t06-01-2006\\tD\\t2500',\n",
              " 'SBI00042\\t123872829\\t30-01-2001\\tC\\t10000']"
            ]
          },
          "metadata": {},
          "execution_count": 4
        }
      ]
    },
    {
      "cell_type": "code",
      "source": [
        "#Count unique number of customers\n",
        "bank.map(lambda d:d.split('\\t')[1]).distinct().count()"
      ],
      "metadata": {
        "colab": {
          "base_uri": "https://localhost:8080/"
        },
        "id": "MxzN0x9Ez8aS",
        "outputId": "2eb238b1-47f3-46d1-cc90-2079025c8cae"
      },
      "execution_count": 5,
      "outputs": [
        {
          "output_type": "execute_result",
          "data": {
            "text/plain": [
              "15"
            ]
          },
          "metadata": {},
          "execution_count": 5
        }
      ]
    },
    {
      "cell_type": "code",
      "source": [
        "#Count unique number of Bank ID\n",
        "bank.map(lambda d:d.split('\\t')[0]).distinct().count()"
      ],
      "metadata": {
        "colab": {
          "base_uri": "https://localhost:8080/"
        },
        "id": "ugkqH7v4z_14",
        "outputId": "a4a070a0-a7a2-4acc-ff4b-6bcfb37d6bb4"
      },
      "execution_count": 6,
      "outputs": [
        {
          "output_type": "execute_result",
          "data": {
            "text/plain": [
              "3"
            ]
          },
          "metadata": {},
          "execution_count": 6
        }
      ]
    },
    {
      "cell_type": "code",
      "source": [
        "#Count unique number of customers per Bank ID\n",
        "bank.map(lambda d:(d.split('\\t')[0],d.split('\\t')[1])).distinct().map(lambda d:(str(d).split(',')[0],1)).reduceByKey(lambda a,b:a+b).collect()"
      ],
      "metadata": {
        "colab": {
          "base_uri": "https://localhost:8080/"
        },
        "id": "k0foSB_f0DQT",
        "outputId": "05d35f9b-658c-473f-c26a-88406d5414ea"
      },
      "execution_count": 7,
      "outputs": [
        {
          "output_type": "execute_result",
          "data": {
            "text/plain": [
              "[(\"('SBI00042'\", 7), (\"('ICI00072'\", 6), (\"('CAN00123'\", 6)]"
            ]
          },
          "metadata": {},
          "execution_count": 7
        }
      ]
    },
    {
      "cell_type": "code",
      "source": [
        "#Number of transactions for given Account Number\n",
        "bank.map(lambda d:(d.split('\\t')[1],1)).reduceByKey(lambda a,b:a+b).collect()"
      ],
      "metadata": {
        "colab": {
          "base_uri": "https://localhost:8080/"
        },
        "id": "ynbWOgh20GjW",
        "outputId": "05dc28cf-5981-4670-f0d6-d948a1315a7f"
      },
      "execution_count": 8,
      "outputs": [
        {
          "output_type": "execute_result",
          "data": {
            "text/plain": [
              "[('123876122', 6),\n",
              " ('123872822', 2),\n",
              " ('123876171', 2),\n",
              " ('123876142', 4),\n",
              " ('123823122', 1),\n",
              " ('123809822', 1),\n",
              " ('123376422', 1),\n",
              " ('123802671', 1),\n",
              " ('123823822', 2),\n",
              " ('123872322', 3),\n",
              " ('123872829', 6),\n",
              " ('720127541', 2),\n",
              " ('123456789', 5),\n",
              " ('123822322', 1),\n",
              " ('123830822', 1)]"
            ]
          },
          "metadata": {},
          "execution_count": 8
        }
      ]
    },
    {
      "cell_type": "code",
      "source": [
        "#Number of credit transactions for given Account Number in a given year\n",
        "def checkCredit(d):\n",
        "  if 'C' in d:\n",
        "    return True\n",
        "bank.map(lambda d:(d.split('\\t')[1]+d.split('\\t')[3])).filter(lambda d:checkCredit(d)).map(lambda d:(d.split('C')[0],1)).reduceByKey(lambda a,b:a+b).collect()"
      ],
      "metadata": {
        "colab": {
          "base_uri": "https://localhost:8080/"
        },
        "id": "GEGbdqzH0LEi",
        "outputId": "02b2f154-f139-4590-ea0c-4b1ce808db37"
      },
      "execution_count": 9,
      "outputs": [
        {
          "output_type": "execute_result",
          "data": {
            "text/plain": [
              "[('123876122', 2),\n",
              " ('123872822', 2),\n",
              " ('123823122', 1),\n",
              " ('123809822', 1),\n",
              " ('123823822', 2),\n",
              " ('123872322', 3),\n",
              " ('123872829', 6),\n",
              " ('720127541', 2),\n",
              " ('123456789', 4),\n",
              " ('123822322', 1),\n",
              " ('123830822', 1)]"
            ]
          },
          "metadata": {},
          "execution_count": 9
        }
      ]
    },
    {
      "cell_type": "code",
      "source": [
        "#Get sum of sum of debit amount for an account\n",
        "def checkDebit(d):\n",
        "  if 'D' in d:\n",
        "    return True\n",
        "bank.filter(lambda d:(checkDebit(d.split('\\t')[3]+d.split('\\t')[4]))).map(lambda d:(d.split('\\t')[1],int(d.split('\\t')[4]))).reduceByKey(lambda a,b:a+b).collect()"
      ],
      "metadata": {
        "colab": {
          "base_uri": "https://localhost:8080/"
        },
        "id": "pqEbgORe0NHB",
        "outputId": "13a04f60-0c65-44f8-bd33-11e453e9b14c"
      },
      "execution_count": 10,
      "outputs": [
        {
          "output_type": "execute_result",
          "data": {
            "text/plain": [
              "[('123876122', 1000),\n",
              " ('123876171', 50000),\n",
              " ('123876142', 10000),\n",
              " ('123376422', 250),\n",
              " ('123802671', 25000),\n",
              " ('123456789', 25000)]"
            ]
          },
          "metadata": {},
          "execution_count": 10
        }
      ]
    },
    {
      "cell_type": "code",
      "source": [
        "#Get sum of debit and credit amount of an account\n",
        "\n",
        "def checkCredit(d):\n",
        "  return d=='C'\n",
        "bank.filter(lambda d:checkCredit(d.split('\\t')[3])).map(lambda d:(d.split('\\t')[1],int(d.split('\\t')[4]))).reduceByKey(lambda a,b:a+b).collect()"
      ],
      "metadata": {
        "colab": {
          "base_uri": "https://localhost:8080/"
        },
        "id": "F6kJGGth0QnD",
        "outputId": "82ff48d9-3c4f-4933-dc28-3f548da7135d"
      },
      "execution_count": 11,
      "outputs": [
        {
          "output_type": "execute_result",
          "data": {
            "text/plain": [
              "[('123876122', 500),\n",
              " ('123872822', 2500),\n",
              " ('123823122', 250),\n",
              " ('123809822', 1250),\n",
              " ('123823822', 20500),\n",
              " ('123872322', 37500),\n",
              " ('123872829', 40200),\n",
              " ('720127541', 500),\n",
              " ('123456789', 82000),\n",
              " ('123822322', 10250),\n",
              " ('123830822', 12500)]"
            ]
          },
          "metadata": {},
          "execution_count": 11
        }
      ]
    },
    {
      "cell_type": "code",
      "source": [
        "#Checking for debited amount for an account\n",
        "def checkDebit(d):\n",
        "  return d=='D'\n",
        "bank.filter(lambda d:checkDebit(d.split('\\t')[3])).map(lambda d:(d.split('\\t')[1],int(d.split('\\t')[4]))).reduceByKey(lambda a,b:a+b).collect()"
      ],
      "metadata": {
        "colab": {
          "base_uri": "https://localhost:8080/"
        },
        "id": "sieI3ERc0Zbs",
        "outputId": "d13cc7cb-2096-453b-8ce4-35133ae166dd"
      },
      "execution_count": 12,
      "outputs": [
        {
          "output_type": "execute_result",
          "data": {
            "text/plain": [
              "[('123876122', 1000),\n",
              " ('123876171', 50000),\n",
              " ('123876142', 10000),\n",
              " ('123376422', 250),\n",
              " ('123802671', 25000),\n",
              " ('123456789', 25000)]"
            ]
          },
          "metadata": {},
          "execution_count": 12
        }
      ]
    },
    {
      "cell_type": "code",
      "source": [
        "#Get the number of transactions per a year for an account\n",
        "bank.map(lambda d:(d.split('\\t')[1]+\" \"+d.split('\\t')[2],1)).reduceByKey(lambda a,b:a+b).collect()"
      ],
      "metadata": {
        "colab": {
          "base_uri": "https://localhost:8080/"
        },
        "id": "YY3JNcJs0gpz",
        "outputId": "a019e1b9-785f-4509-b3d3-f7d61e3c68b7"
      },
      "execution_count": 13,
      "outputs": [
        {
          "output_type": "execute_result",
          "data": {
            "text/plain": [
              "[('123823822 23-10-2021', 1),\n",
              " ('123876122 23-10-2019', 1),\n",
              " ('123876142 06-01-2006', 2),\n",
              " ('123872829 30-01-2001', 2),\n",
              " ('123809822 23-10-2021', 1),\n",
              " ('123802671 23-10-2021', 1),\n",
              " ('123830822 23-10-2021', 1),\n",
              " ('123876142 11-04-2000', 1),\n",
              " ('123456789 03-10-2011', 1),\n",
              " ('123876122 06-08-2015', 1),\n",
              " ('123823822 23-10-2020', 1),\n",
              " ('123876122 23-10-2021', 4),\n",
              " ('123872822 23-10-2021', 2),\n",
              " ('123876171 23-10-2021', 1),\n",
              " ('123872322 23-10-2021', 1),\n",
              " ('123876142 23-10-2021', 1),\n",
              " ('123872829 23-10-2021', 1),\n",
              " ('720127541 03-1-2010', 2),\n",
              " ('123456789 23-11-2020', 1),\n",
              " ('123456789 23-12-2020', 1),\n",
              " ('123456789 23-10-2020', 1),\n",
              " ('123876171 13-10-2005', 1),\n",
              " ('123872322 15-11-2012', 2),\n",
              " ('123872829 30-11-2001', 1),\n",
              " ('123872829 30-07-2001', 1),\n",
              " ('123823122 23-10-2021', 1),\n",
              " ('123376422 23-10-2021', 1),\n",
              " ('123822322 23-10-2021', 1),\n",
              " ('123872829 21-07-2002', 1),\n",
              " ('123456789 13-10-2005', 1)]"
            ]
          },
          "metadata": {},
          "execution_count": 13
        }
      ]
    }
  ]
}