{
  "nbformat": 4,
  "nbformat_minor": 0,
  "metadata": {
    "colab": {
      "provenance": []
    },
    "kernelspec": {
      "name": "python3",
      "display_name": "Python 3"
    },
    "language_info": {
      "name": "python"
    }
  },
  "cells": [
    {
      "cell_type": "code",
      "execution_count": null,
      "metadata": {
        "colab": {
          "base_uri": "https://localhost:8080/"
        },
        "id": "iq6HIDYhPH71",
        "outputId": "7c731297-8322-401c-8058-dc09aacd328c"
      },
      "outputs": [
        {
          "output_type": "stream",
          "name": "stdout",
          "text": [
            "Collecting pyspark\n",
            "  Downloading pyspark-3.5.0.tar.gz (316.9 MB)\n",
            "\u001b[2K     \u001b[90m━━━━━━━━━━━━━━━━━━━━━━━━━━━━━━━━━━━━━━━━\u001b[0m \u001b[32m316.9/316.9 MB\u001b[0m \u001b[31m3.4 MB/s\u001b[0m eta \u001b[36m0:00:00\u001b[0m\n",
            "\u001b[?25h  Preparing metadata (setup.py) ... \u001b[?25l\u001b[?25hdone\n",
            "Requirement already satisfied: py4j==0.10.9.7 in /usr/local/lib/python3.10/dist-packages (from pyspark) (0.10.9.7)\n",
            "Building wheels for collected packages: pyspark\n",
            "  Building wheel for pyspark (setup.py) ... \u001b[?25l\u001b[?25hdone\n",
            "  Created wheel for pyspark: filename=pyspark-3.5.0-py2.py3-none-any.whl size=317425344 sha256=f78dacdf0ee3c7dfb34488cac99eebe054d95db8491ecde3e1677280ffd7ec58\n",
            "  Stored in directory: /root/.cache/pip/wheels/41/4e/10/c2cf2467f71c678cfc8a6b9ac9241e5e44a01940da8fbb17fc\n",
            "Successfully built pyspark\n",
            "Installing collected packages: pyspark\n",
            "Successfully installed pyspark-3.5.0\n"
          ]
        }
      ],
      "source": [
        "!pip install pyspark"
      ]
    },
    {
      "cell_type": "code",
      "source": [
        "import pyspark\n",
        "from pyspark.sql import SparkSession\n",
        "spark = SparkSession.builder.appName('Students DF').getOrCreate()"
      ],
      "metadata": {
        "id": "xVo_yU-KP-4B"
      },
      "execution_count": null,
      "outputs": []
    },
    {
      "cell_type": "code",
      "source": [
        "from pyspark.sql.functions import *\n",
        "from pyspark.sql.types import *\n",
        "from pyspark.sql.window import Window"
      ],
      "metadata": {
        "id": "uhgd5t7-QGtI"
      },
      "execution_count": null,
      "outputs": []
    },
    {
      "cell_type": "code",
      "source": [
        "from google.colab import drive\n",
        "drive.mount('/content/drive/')\n",
        "df = spark.read.csv(\"drive/My Drive/Colab Notebooks/students.csv\",header=True,inferSchema=True)\n",
        "df.show()\n",
        "df.printSchema()"
      ],
      "metadata": {
        "colab": {
          "base_uri": "https://localhost:8080/"
        },
        "id": "nZrKFK-UQQGc",
        "outputId": "77bf6ddd-6f54-43ea-9d85-c3f1a3d679fb"
      },
      "execution_count": null,
      "outputs": [
        {
          "output_type": "stream",
          "name": "stdout",
          "text": [
            "Mounted at /content/drive/\n",
            "+------+--------------+---------------------------+------------+-----------------------+----------+-------------+-------------+\n",
            "|gender|race/ethnicity|parental level of education|       lunch|test preparation course|math score|reading score|writing score|\n",
            "+------+--------------+---------------------------+------------+-----------------------+----------+-------------+-------------+\n",
            "|female|       group B|          bachelor's degree|    standard|                   none|        72|           72|           74|\n",
            "|female|       group C|               some college|    standard|              completed|        69|           90|           88|\n",
            "|female|       group B|            master's degree|    standard|                   none|        90|           95|           93|\n",
            "|  male|       group A|         associate's degree|free/reduced|                   none|        47|           57|           44|\n",
            "|  male|       group C|               some college|    standard|                   none|        76|           78|           75|\n",
            "|female|       group B|         associate's degree|    standard|                   none|        71|           83|           78|\n",
            "|female|       group B|               some college|    standard|              completed|        88|           95|           92|\n",
            "|  male|       group B|               some college|free/reduced|                   none|        40|           43|           39|\n",
            "|  male|       group D|                high school|free/reduced|              completed|        64|           64|           67|\n",
            "|female|       group B|                high school|free/reduced|                   none|        38|           60|           50|\n",
            "|  male|       group C|         associate's degree|    standard|                   none|        58|           54|           52|\n",
            "|  male|       group D|         associate's degree|    standard|                   none|        40|           52|           43|\n",
            "|female|       group B|                high school|    standard|                   none|        65|           81|           73|\n",
            "|  male|       group A|               some college|    standard|              completed|        78|           72|           70|\n",
            "|female|       group A|            master's degree|    standard|                   none|        50|           53|           58|\n",
            "|female|       group C|           some high school|    standard|                   none|        69|           75|           78|\n",
            "|  male|       group C|                high school|    standard|                   none|        88|           89|           86|\n",
            "|female|       group B|           some high school|free/reduced|                   none|        18|           32|           28|\n",
            "|  male|       group C|            master's degree|free/reduced|              completed|        46|           42|           46|\n",
            "|female|       group C|         associate's degree|free/reduced|                   none|        54|           58|           61|\n",
            "+------+--------------+---------------------------+------------+-----------------------+----------+-------------+-------------+\n",
            "only showing top 20 rows\n",
            "\n",
            "root\n",
            " |-- gender: string (nullable = true)\n",
            " |-- race/ethnicity: string (nullable = true)\n",
            " |-- parental level of education: string (nullable = true)\n",
            " |-- lunch: string (nullable = true)\n",
            " |-- test preparation course: string (nullable = true)\n",
            " |-- math score: integer (nullable = true)\n",
            " |-- reading score: integer (nullable = true)\n",
            " |-- writing score: integer (nullable = true)\n",
            "\n"
          ]
        }
      ]
    },
    {
      "cell_type": "code",
      "source": [
        "type(df)"
      ],
      "metadata": {
        "colab": {
          "base_uri": "https://localhost:8080/"
        },
        "id": "UZBxunJnRhps",
        "outputId": "40d2c2ec-5a94-4728-999b-9f89fd28a68d"
      },
      "execution_count": null,
      "outputs": [
        {
          "output_type": "execute_result",
          "data": {
            "text/plain": [
              "pyspark.sql.dataframe.DataFrame"
            ]
          },
          "metadata": {},
          "execution_count": 5
        }
      ]
    },
    {
      "cell_type": "code",
      "source": [
        "#1.Number of male and female students\n",
        "\n",
        "df.select(\"gender\").distinct().count()\n",
        "\n",
        "df.select(\"gender\").distinct().show()\n",
        "\n",
        "df.groupBy(\"gender\").count().show()"
      ],
      "metadata": {
        "colab": {
          "base_uri": "https://localhost:8080/"
        },
        "id": "jlWAVR0cT6HI",
        "outputId": "967c615d-51a0-4819-a072-c91e5518e57d"
      },
      "execution_count": null,
      "outputs": [
        {
          "output_type": "stream",
          "name": "stdout",
          "text": [
            "+------+\n",
            "|gender|\n",
            "+------+\n",
            "|female|\n",
            "|  male|\n",
            "+------+\n",
            "\n",
            "+------+-----+\n",
            "|gender|count|\n",
            "+------+-----+\n",
            "|female|  518|\n",
            "|  male|  482|\n",
            "+------+-----+\n",
            "\n"
          ]
        }
      ]
    },
    {
      "cell_type": "code",
      "source": [
        "#List different 'race/ethnicity\n",
        "df.select(\"race/ethnicity\").distinct().show()\n",
        "\n",
        "df.select(\"race/ethnicity\").distinct()\\\n",
        ".orderBy(col(\"race/ethnicity\"), ascending=False).show()\n",
        "\n",
        "df.select(\"race/ethnicity\").distinct()\\\n",
        ".orderBy(col(\"race/ethnicity\"), ascending=True).show()\n",
        "\n",
        "df.select(\"race/ethnicity\").distinct().count()\n",
        "\n",
        "df.groupBy(\"race/ethnicity\").count().show()\n"
      ],
      "metadata": {
        "colab": {
          "base_uri": "https://localhost:8080/"
        },
        "id": "UJuDMG7tUO6O",
        "outputId": "eb3848c0-38b6-49fb-f281-d41e4ebe3024"
      },
      "execution_count": null,
      "outputs": [
        {
          "output_type": "stream",
          "name": "stdout",
          "text": [
            "+--------------+\n",
            "|race/ethnicity|\n",
            "+--------------+\n",
            "|       group B|\n",
            "|       group C|\n",
            "|       group D|\n",
            "|       group A|\n",
            "|       group E|\n",
            "+--------------+\n",
            "\n",
            "+--------------+\n",
            "|race/ethnicity|\n",
            "+--------------+\n",
            "|       group E|\n",
            "|       group D|\n",
            "|       group C|\n",
            "|       group B|\n",
            "|       group A|\n",
            "+--------------+\n",
            "\n",
            "+--------------+\n",
            "|race/ethnicity|\n",
            "+--------------+\n",
            "|       group A|\n",
            "|       group B|\n",
            "|       group C|\n",
            "|       group D|\n",
            "|       group E|\n",
            "+--------------+\n",
            "\n",
            "+--------------+-----+\n",
            "|race/ethnicity|count|\n",
            "+--------------+-----+\n",
            "|       group B|  190|\n",
            "|       group C|  319|\n",
            "|       group D|  262|\n",
            "|       group A|   89|\n",
            "|       group E|  140|\n",
            "+--------------+-----+\n",
            "\n"
          ]
        }
      ]
    },
    {
      "cell_type": "code",
      "source": [
        "#3.3.What are different 'parental level of education'?\n",
        "\n",
        "df.select(\"parental level of education\").show()\n",
        "\n",
        "df.select(\"parental level of education\").distinct().show()\n",
        "\n",
        "df.select(\"parental level of education\").count()\n",
        "\n",
        "df.select(\"parental level of education\").distinct().count()\n",
        "\n",
        "df.groupBy(\"parental level of education\").count().show()"
      ],
      "metadata": {
        "colab": {
          "base_uri": "https://localhost:8080/"
        },
        "id": "1tgUFEkfUcPR",
        "outputId": "9e9cbbae-c131-4b3d-9404-a1498afe666c"
      },
      "execution_count": null,
      "outputs": [
        {
          "output_type": "stream",
          "name": "stdout",
          "text": [
            "+---------------------------+\n",
            "|parental level of education|\n",
            "+---------------------------+\n",
            "|          bachelor's degree|\n",
            "|               some college|\n",
            "|            master's degree|\n",
            "|         associate's degree|\n",
            "|               some college|\n",
            "|         associate's degree|\n",
            "|               some college|\n",
            "|               some college|\n",
            "|                high school|\n",
            "|                high school|\n",
            "|         associate's degree|\n",
            "|         associate's degree|\n",
            "|                high school|\n",
            "|               some college|\n",
            "|            master's degree|\n",
            "|           some high school|\n",
            "|                high school|\n",
            "|           some high school|\n",
            "|            master's degree|\n",
            "|         associate's degree|\n",
            "+---------------------------+\n",
            "only showing top 20 rows\n",
            "\n",
            "+---------------------------+\n",
            "|parental level of education|\n",
            "+---------------------------+\n",
            "|           some high school|\n",
            "|         associate's degree|\n",
            "|                high school|\n",
            "|          bachelor's degree|\n",
            "|            master's degree|\n",
            "|               some college|\n",
            "+---------------------------+\n",
            "\n",
            "+---------------------------+-----+\n",
            "|parental level of education|count|\n",
            "+---------------------------+-----+\n",
            "|           some high school|  179|\n",
            "|         associate's degree|  222|\n",
            "|                high school|  196|\n",
            "|          bachelor's degree|  118|\n",
            "|            master's degree|   59|\n",
            "|               some college|  226|\n",
            "+---------------------------+-----+\n",
            "\n"
          ]
        }
      ]
    },
    {
      "cell_type": "code",
      "source": [
        "#4.How many female students scored more than 79 marks in math, whose parental level of education is 'high school'\n",
        "\n",
        "df.filter(df[\"math score\"] >= 79).orderBy(\"math score\",ascending=True).show()\n",
        "\n",
        "df.filter((df[\"gender\"]==\"female\")& (df[\"math score\"] >= 79)).orderBy(\"math score\",ascending=True).show()\n",
        "\n",
        "df.filter((df[\"gender\"]==\"female\")& (df[\"math score\"] >= 79)&(df[\"parental level of education\"]==\"high school\")).orderBy(\"math score\",ascending=True).show()"
      ],
      "metadata": {
        "colab": {
          "base_uri": "https://localhost:8080/"
        },
        "id": "cCEZKVieVSdt",
        "outputId": "9562ec87-6c7b-4265-d6b6-de9a998356c3"
      },
      "execution_count": null,
      "outputs": [
        {
          "output_type": "stream",
          "name": "stdout",
          "text": [
            "+------+--------------+---------------------------+------------+-----------------------+----------+-------------+-------------+\n",
            "|gender|race/ethnicity|parental level of education|       lunch|test preparation course|math score|reading score|writing score|\n",
            "+------+--------------+---------------------------+------------+-----------------------+----------+-------------+-------------+\n",
            "|  male|       group A|           some high school|free/reduced|                   none|        79|           82|           73|\n",
            "|  male|       group B|           some high school|    standard|              completed|        79|           85|           86|\n",
            "|female|       group D|          bachelor's degree|    standard|                   none|        79|           89|           89|\n",
            "|female|       group B|               some college|    standard|                   none|        79|           86|           92|\n",
            "|female|       group E|         associate's degree|    standard|              completed|        79|           88|           94|\n",
            "|female|       group D|               some college|    standard|              completed|        79|           84|           91|\n",
            "|  male|       group D|         associate's degree|free/reduced|              completed|        79|           82|           80|\n",
            "|  male|       group C|            master's degree|free/reduced|                   none|        79|           81|           71|\n",
            "|  male|       group C|            master's degree|    standard|                   none|        79|           72|           69|\n",
            "|  male|       group D|               some college|    standard|                   none|        79|           73|           67|\n",
            "|  male|       group C|           some high school|free/reduced|                   none|        79|           76|           65|\n",
            "|  male|       group B|               some college|    standard|                   none|        79|           67|           67|\n",
            "|  male|       group B|                high school|    standard|                   none|        79|           60|           65|\n",
            "|  male|       group A|         associate's degree|free/reduced|              completed|        79|           82|           82|\n",
            "|female|       group D|               some college|free/reduced|                   none|        79|           89|           86|\n",
            "|female|       group D|               some college|    standard|                   none|        79|           86|           81|\n",
            "|female|       group E|          bachelor's degree|    standard|              completed|        79|           81|           82|\n",
            "|  male|       group E|          bachelor's degree|free/reduced|              completed|        79|           74|           72|\n",
            "|  male|       group C|            master's degree|free/reduced|              completed|        79|           77|           75|\n",
            "|  male|       group C|            master's degree|    standard|                   none|        79|           78|           77|\n",
            "+------+--------------+---------------------------+------------+-----------------------+----------+-------------+-------------+\n",
            "only showing top 20 rows\n",
            "\n",
            "+------+--------------+---------------------------+------------+-----------------------+----------+-------------+-------------+\n",
            "|gender|race/ethnicity|parental level of education|       lunch|test preparation course|math score|reading score|writing score|\n",
            "+------+--------------+---------------------------+------------+-----------------------+----------+-------------+-------------+\n",
            "|female|       group B|               some college|    standard|                   none|        79|           86|           92|\n",
            "|female|       group C|          bachelor's degree|    standard|              completed|        79|           92|           89|\n",
            "|female|       group D|               some college|    standard|                   none|        79|           86|           81|\n",
            "|female|       group D|          bachelor's degree|    standard|                   none|        79|           89|           89|\n",
            "|female|       group E|         associate's degree|    standard|              completed|        79|           88|           94|\n",
            "|female|       group D|               some college|free/reduced|                   none|        79|           89|           86|\n",
            "|female|       group E|          bachelor's degree|    standard|              completed|        79|           81|           82|\n",
            "|female|       group D|               some college|    standard|              completed|        79|           84|           91|\n",
            "|female|       group E|          bachelor's degree|    standard|                   none|        80|           83|           83|\n",
            "|female|       group D|               some college|    standard|                   none|        80|           90|           89|\n",
            "|female|       group D|           some high school|    standard|                   none|        80|           90|           82|\n",
            "|female|       group B|         associate's degree|    standard|                   none|        80|           86|           83|\n",
            "|female|       group D|           some high school|    standard|              completed|        80|           92|           88|\n",
            "|female|       group E|           some high school|    standard|              completed|        80|           85|           85|\n",
            "|female|       group E|            master's degree|    standard|                   none|        81|           92|           91|\n",
            "|female|       group C|            master's degree|    standard|              completed|        81|           91|           87|\n",
            "|female|       group C|          bachelor's degree|    standard|                   none|        81|           88|           90|\n",
            "|female|       group C|         associate's degree|    standard|                   none|        81|           77|           79|\n",
            "|female|       group B|                high school|    standard|                   none|        81|           91|           89|\n",
            "|female|       group D|           some high school|    standard|                   none|        81|           97|           96|\n",
            "+------+--------------+---------------------------+------------+-----------------------+----------+-------------+-------------+\n",
            "only showing top 20 rows\n",
            "\n",
            "+------+--------------+---------------------------+--------+-----------------------+----------+-------------+-------------+\n",
            "|gender|race/ethnicity|parental level of education|   lunch|test preparation course|math score|reading score|writing score|\n",
            "+------+--------------+---------------------------+--------+-----------------------+----------+-------------+-------------+\n",
            "|female|       group B|                high school|standard|                   none|        81|           91|           89|\n",
            "|female|       group C|                high school|standard|                   none|        81|           84|           82|\n",
            "|female|       group B|                high school|standard|                   none|        87|           95|           86|\n",
            "|female|       group D|                high school|standard|              completed|        88|           99|          100|\n",
            "|female|       group E|                high school|standard|                   none|        99|           93|           90|\n",
            "+------+--------------+---------------------------+--------+-----------------------+----------+-------------+-------------+\n",
            "\n"
          ]
        }
      ]
    },
    {
      "cell_type": "code",
      "source": [
        "#.Check whether average maths score of male or female students are high?\n",
        "avg1=df.select(avg(\"math score\")).show()\n",
        "\n",
        "female=df.filter(df[\"gender\"]==\"female\")\\\n",
        ".select(avg(\"math score\")).show()\n",
        "male=df.filter(df[\"gender\"]==\"male\")\\\n",
        ".select(avg(\"math score\")).show()\n",
        "\n",
        "average = df.groupBy(\"gender\").agg(avg(\"math score\").alias(\"avg_math_score\"))\n",
        "average.show()\n",
        "\n",
        "male = average.filter(average[\"gender\"] == \"male\").collect()[0][\"avg_math_score\"]\n",
        "female= average.filter(average[\"gender\"] == \"female\").collect()[0][\"avg_math_score\"]\n",
        "if male > female:\n",
        "    print(\"male students is higher.\")\n",
        "elif female > male:\n",
        "    print(\" female students is higher.\")\n"
      ],
      "metadata": {
        "colab": {
          "base_uri": "https://localhost:8080/"
        },
        "id": "o1Aqa1s0V5TI",
        "outputId": "8be02598-186f-48cd-e7f0-dff644d5f2e5"
      },
      "execution_count": null,
      "outputs": [
        {
          "output_type": "stream",
          "name": "stdout",
          "text": [
            "+---------------+\n",
            "|avg(math score)|\n",
            "+---------------+\n",
            "|         66.089|\n",
            "+---------------+\n",
            "\n",
            "+------------------+\n",
            "|   avg(math score)|\n",
            "+------------------+\n",
            "|63.633204633204635|\n",
            "+------------------+\n",
            "\n",
            "+-----------------+\n",
            "|  avg(math score)|\n",
            "+-----------------+\n",
            "|68.72821576763485|\n",
            "+-----------------+\n",
            "\n",
            "+------+------------------+\n",
            "|gender|    avg_math_score|\n",
            "+------+------------------+\n",
            "|female|63.633204633204635|\n",
            "|  male| 68.72821576763485|\n",
            "+------+------------------+\n",
            "\n",
            "male students is higher.\n"
          ]
        }
      ]
    },
    {
      "cell_type": "code",
      "source": [
        "#6.What is average reading score of male and female students?\n",
        "\n",
        "average = df.groupBy(\"gender\").agg(avg(\"reading score\").alias(\"avg_reading_score\"))\n",
        "average.show()"
      ],
      "metadata": {
        "colab": {
          "base_uri": "https://localhost:8080/"
        },
        "id": "0E_1NBD1WI6E",
        "outputId": "30485840-e479-417f-f9b9-a4c3002917e3"
      },
      "execution_count": null,
      "outputs": [
        {
          "output_type": "stream",
          "name": "stdout",
          "text": [
            "+------+-----------------+\n",
            "|gender|avg_reading_score|\n",
            "+------+-----------------+\n",
            "|female|72.60810810810811|\n",
            "|  male|65.47302904564316|\n",
            "+------+-----------------+\n",
            "\n"
          ]
        }
      ]
    },
    {
      "cell_type": "code",
      "source": [
        "#Whether students score depends upon 'parental level of education'? Justifyyour answer\n",
        "\n",
        "average= df.groupBy(\"parental level of education\") \\\n",
        "    .agg(avg(\"math score\").alias(\"avg_math_score\"),\n",
        "         avg(\"reading score\").alias(\"avg_reading_score\"),\n",
        "         avg(\"writing score\").alias(\"avg_writing_score\"))\n",
        "average.show()"
      ],
      "metadata": {
        "colab": {
          "base_uri": "https://localhost:8080/"
        },
        "id": "hWiC05o5WUuJ",
        "outputId": "aee4009b-3a30-4921-f6bf-cf8514788800"
      },
      "execution_count": null,
      "outputs": [
        {
          "output_type": "stream",
          "name": "stdout",
          "text": [
            "+---------------------------+------------------+-----------------+-----------------+\n",
            "|parental level of education|    avg_math_score|avg_reading_score|avg_writing_score|\n",
            "+---------------------------+------------------+-----------------+-----------------+\n",
            "|           some high school|63.497206703910614|66.93854748603351|64.88826815642459|\n",
            "|         associate's degree| 67.88288288288288|70.92792792792793| 69.8963963963964|\n",
            "|                high school| 62.13775510204081|64.70408163265306|62.44897959183673|\n",
            "|          bachelor's degree| 69.38983050847457|             73.0|73.38135593220339|\n",
            "|            master's degree|  69.7457627118644|75.37288135593221|75.67796610169492|\n",
            "|               some college|  67.1283185840708|69.46017699115045|68.84070796460178|\n",
            "+---------------------------+------------------+-----------------+-----------------+\n",
            "\n"
          ]
        }
      ]
    },
    {
      "cell_type": "code",
      "source": [
        "math_score = average.orderBy(\"avg_math_score\", ascending=False).first()\n",
        "reading_score = average.orderBy(\"avg_reading_score\", ascending=False).first()\n",
        "writing_score = average.orderBy(\"avg_writing_score\", ascending=False).first()\n",
        "print(\"maths\",math_score)\n",
        "print(\"read\",reading_score)\n",
        "print(\"writing\",writing_score)"
      ],
      "metadata": {
        "colab": {
          "base_uri": "https://localhost:8080/"
        },
        "id": "awB6vuTLWlLE",
        "outputId": "279e70cd-b6be-4a42-fa32-62d920fdfc1a"
      },
      "execution_count": null,
      "outputs": [
        {
          "output_type": "stream",
          "name": "stdout",
          "text": [
            "maths Row(parental level of education=\"master's degree\", avg_math_score=69.7457627118644, avg_reading_score=75.37288135593221, avg_writing_score=75.67796610169492)\n",
            "read Row(parental level of education=\"master's degree\", avg_math_score=69.7457627118644, avg_reading_score=75.37288135593221, avg_writing_score=75.67796610169492)\n",
            "writing Row(parental level of education=\"master's degree\", avg_math_score=69.7457627118644, avg_reading_score=75.37288135593221, avg_writing_score=75.67796610169492)\n"
          ]
        }
      ]
    },
    {
      "cell_type": "code",
      "source": [
        "#8.List the records where 'test preparation course' is 'none' and scored more than 70 in maths.\n",
        "\n",
        "df.filter(df[\"test preparation course\"]==\"none\")\\\n",
        ".where(df[\"math score\"]>=70).count()\n",
        "\n",
        "df.filter((df[\"test preparation course\"]==\"none\")&(df[\"math score\"]>=70)).count()\n",
        "\n",
        "df.filter(df[\"test preparation course\"]==\"none\")\\\n",
        ".where(df[\"math score\"]>=70).show()\n",
        "\n",
        "df.filter(df[\"test preparation course\"]==\"none\")\\\n",
        ".where(df[\"math score\"]>=70)\\\n",
        ".orderBy(df[\"math score\"],ascending=False).show()\n",
        "\n",
        "df.filter((df[\"test preparation course\"]==\"none\")& (df[\"gender\"]==\"female\"))\\\n",
        ".where(df[\"math score\"]>=70)\\\n",
        ".orderBy(df[\"math score\"],ascending=False).show()\n",
        "\n",
        "df.filter((df[\"test preparation course\"]==\"none\")& (df[\"gender\"]==\"male\"))\\\n",
        ".where(df[\"math score\"]>=70)\\\n",
        ".orderBy(df[\"math score\"],ascending=False).show()"
      ],
      "metadata": {
        "colab": {
          "base_uri": "https://localhost:8080/"
        },
        "id": "0vwIlQ6oWy0a",
        "outputId": "38062490-3da2-4d12-ec16-f783e0c65e8d"
      },
      "execution_count": null,
      "outputs": [
        {
          "output_type": "stream",
          "name": "stdout",
          "text": [
            "+------+--------------+---------------------------+------------+-----------------------+----------+-------------+-------------+\n",
            "|gender|race/ethnicity|parental level of education|       lunch|test preparation course|math score|reading score|writing score|\n",
            "+------+--------------+---------------------------+------------+-----------------------+----------+-------------+-------------+\n",
            "|female|       group B|          bachelor's degree|    standard|                   none|        72|           72|           74|\n",
            "|female|       group B|            master's degree|    standard|                   none|        90|           95|           93|\n",
            "|  male|       group C|               some college|    standard|                   none|        76|           78|           75|\n",
            "|female|       group B|         associate's degree|    standard|                   none|        71|           83|           78|\n",
            "|  male|       group C|                high school|    standard|                   none|        88|           89|           86|\n",
            "|  male|       group A|            master's degree|free/reduced|                   none|        73|           74|           72|\n",
            "|  male|       group C|                high school|    standard|                   none|        70|           70|           65|\n",
            "|  male|       group E|               some college|    standard|                   none|        97|           87|           82|\n",
            "|female|       group D|         associate's degree|    standard|                   none|        74|           81|           83|\n",
            "|  male|       group D|                high school|    standard|                   none|        88|           78|           75|\n",
            "|  male|       group E|         associate's degree|    standard|                   none|        72|           64|           63|\n",
            "|female|       group C|               some college|    standard|                   none|        73|           80|           82|\n",
            "|female|       group C|               some college|free/reduced|                   none|        76|           83|           88|\n",
            "|female|       group D|         associate's degree|    standard|                   none|        71|           71|           74|\n",
            "|female|       group D|           some high school|    standard|                   none|        73|           86|           82|\n",
            "|  male|       group C|                high school|    standard|                   none|        71|           79|           71|\n",
            "|female|       group B|               some college|    standard|                   none|        79|           86|           92|\n",
            "|  male|       group B|               some college|    standard|                   none|        79|           67|           67|\n",
            "|female|       group D|         associate's degree|    standard|                   none|        85|           91|           89|\n",
            "|female|       group D|            master's degree|    standard|                   none|        87|          100|          100|\n",
            "+------+--------------+---------------------------+------------+-----------------------+----------+-------------+-------------+\n",
            "only showing top 20 rows\n",
            "\n",
            "+------+--------------+---------------------------+------------+-----------------------+----------+-------------+-------------+\n",
            "|gender|race/ethnicity|parental level of education|       lunch|test preparation course|math score|reading score|writing score|\n",
            "+------+--------------+---------------------------+------------+-----------------------+----------+-------------+-------------+\n",
            "|female|       group E|               some college|    standard|                   none|       100|           92|           97|\n",
            "|female|       group E|          bachelor's degree|    standard|                   none|       100|          100|          100|\n",
            "|female|       group E|         associate's degree|    standard|                   none|       100|          100|          100|\n",
            "|female|       group E|                high school|    standard|                   none|        99|           93|           90|\n",
            "|female|       group D|               some college|    standard|                   none|        98|          100|           99|\n",
            "|  male|       group E|               some college|    standard|                   none|        97|           87|           82|\n",
            "|female|       group B|          bachelor's degree|    standard|                   none|        97|           97|           96|\n",
            "|  male|       group C|         associate's degree|    standard|                   none|        97|           93|           91|\n",
            "|  male|       group D|            master's degree|    standard|                   none|        95|           81|           84|\n",
            "|  male|       group E|           some high school|    standard|                   none|        94|           88|           78|\n",
            "|  male|       group E|                high school|    standard|                   none|        94|           73|           71|\n",
            "|  male|       group E|               some college|free/reduced|                   none|        93|           90|           83|\n",
            "|  male|       group E|           some high school|    standard|                   none|        92|           87|           78|\n",
            "|  male|       group C|         associate's degree|    standard|                   none|        92|           79|           84|\n",
            "|female|       group D|            master's degree|    standard|                   none|        92|          100|          100|\n",
            "|  male|       group A|          bachelor's degree|    standard|                   none|        91|           96|           92|\n",
            "|female|       group C|         associate's degree|    standard|                   none|        91|           86|           84|\n",
            "|  male|       group C|               some college|    standard|                   none|        91|           74|           76|\n",
            "|female|       group C|         associate's degree|    standard|                   none|        91|           95|           94|\n",
            "|  male|       group D|         associate's degree|    standard|                   none|        90|           87|           85|\n",
            "+------+--------------+---------------------------+------------+-----------------------+----------+-------------+-------------+\n",
            "only showing top 20 rows\n",
            "\n",
            "+------+--------------+---------------------------+--------+-----------------------+----------+-------------+-------------+\n",
            "|gender|race/ethnicity|parental level of education|   lunch|test preparation course|math score|reading score|writing score|\n",
            "+------+--------------+---------------------------+--------+-----------------------+----------+-------------+-------------+\n",
            "|female|       group E|               some college|standard|                   none|       100|           92|           97|\n",
            "|female|       group E|          bachelor's degree|standard|                   none|       100|          100|          100|\n",
            "|female|       group E|         associate's degree|standard|                   none|       100|          100|          100|\n",
            "|female|       group E|                high school|standard|                   none|        99|           93|           90|\n",
            "|female|       group D|               some college|standard|                   none|        98|          100|           99|\n",
            "|female|       group B|          bachelor's degree|standard|                   none|        97|           97|           96|\n",
            "|female|       group D|            master's degree|standard|                   none|        92|          100|          100|\n",
            "|female|       group C|         associate's degree|standard|                   none|        91|           86|           84|\n",
            "|female|       group C|         associate's degree|standard|                   none|        91|           95|           94|\n",
            "|female|       group B|            master's degree|standard|                   none|        90|           95|           93|\n",
            "|female|       group D|          bachelor's degree|standard|                   none|        89|          100|          100|\n",
            "|female|       group D|            master's degree|standard|                   none|        87|          100|          100|\n",
            "|female|       group B|                high school|standard|                   none|        87|           95|           86|\n",
            "|female|       group E|         associate's degree|standard|                   none|        87|           94|           95|\n",
            "|female|       group E|               some college|standard|                   none|        87|           85|           93|\n",
            "|female|       group C|          bachelor's degree|standard|                   none|        86|           92|           87|\n",
            "|female|       group D|         associate's degree|standard|                   none|        85|           91|           89|\n",
            "|female|       group C|         associate's degree|standard|                   none|        85|           89|           95|\n",
            "|female|       group C|         associate's degree|standard|                   none|        85|           84|           82|\n",
            "|female|       group E|         associate's degree|standard|                   none|        85|           92|           85|\n",
            "+------+--------------+---------------------------+--------+-----------------------+----------+-------------+-------------+\n",
            "only showing top 20 rows\n",
            "\n",
            "+------+--------------+---------------------------+------------+-----------------------+----------+-------------+-------------+\n",
            "|gender|race/ethnicity|parental level of education|       lunch|test preparation course|math score|reading score|writing score|\n",
            "+------+--------------+---------------------------+------------+-----------------------+----------+-------------+-------------+\n",
            "|  male|       group E|               some college|    standard|                   none|        97|           87|           82|\n",
            "|  male|       group C|         associate's degree|    standard|                   none|        97|           93|           91|\n",
            "|  male|       group D|            master's degree|    standard|                   none|        95|           81|           84|\n",
            "|  male|       group E|           some high school|    standard|                   none|        94|           88|           78|\n",
            "|  male|       group E|                high school|    standard|                   none|        94|           73|           71|\n",
            "|  male|       group E|               some college|free/reduced|                   none|        93|           90|           83|\n",
            "|  male|       group E|           some high school|    standard|                   none|        92|           87|           78|\n",
            "|  male|       group C|         associate's degree|    standard|                   none|        92|           79|           84|\n",
            "|  male|       group C|               some college|    standard|                   none|        91|           74|           76|\n",
            "|  male|       group A|          bachelor's degree|    standard|                   none|        91|           96|           92|\n",
            "|  male|       group D|         associate's degree|    standard|                   none|        90|           87|           85|\n",
            "|  male|       group E|         associate's degree|free/reduced|                   none|        90|           90|           82|\n",
            "|  male|       group D|         associate's degree|free/reduced|                   none|        90|           87|           75|\n",
            "|  male|       group B|         associate's degree|    standard|                   none|        90|           78|           81|\n",
            "|  male|       group C|                high school|    standard|                   none|        90|           75|           69|\n",
            "|  male|       group E|            master's degree|    standard|                   none|        90|           85|           84|\n",
            "|  male|       group E|         associate's degree|    standard|                   none|        89|           76|           74|\n",
            "|  male|       group D|            master's degree|    standard|                   none|        89|           84|           82|\n",
            "|  male|       group D|                high school|    standard|                   none|        89|           87|           79|\n",
            "|  male|       group D|          bachelor's degree|    standard|                   none|        88|           78|           83|\n",
            "+------+--------------+---------------------------+------------+-----------------------+----------+-------------+-------------+\n",
            "only showing top 20 rows\n",
            "\n"
          ]
        }
      ]
    }
  ]
}